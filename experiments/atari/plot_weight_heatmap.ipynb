{
 "cells": [
  {
   "cell_type": "code",
   "execution_count": null,
   "id": "99ce761b",
   "metadata": {
    "vscode": {
     "languageId": "plaintext"
    }
   },
   "outputs": [],
   "source": [
    "import torch\n",
    "from models import (\n",
    "    CnnSimpleAgent,\n",
    "    # DinoSimpleAgent,\n",
    "    CnnCompoNetAgent,\n",
    "    CnnTvNetAgent, \n",
    "    ProgressiveNetAgent,\n",
    "    PackNetAgent,\n",
    "    FuseNetAgent,\n",
    "    CnnMaskAgent,\n",
    "    FuseNetwMergeAgent,\n",
    "    RewireAgent,\n",
    "    CnnCbpAgent,\n",
    "    CReLUsAgent,\n",
    ")"
   ]
  },
  {
   "cell_type": "code",
   "execution_count": null,
   "id": "35e78ab5",
   "metadata": {
    "vscode": {
     "languageId": "plaintext"
    }
   },
   "outputs": [],
   "source": [
    "# load the model\n",
    "device = \"cuda\" if torch.cuda.is_available() else \"cpu\"\n",
    "\n",
    "if algorithm in [\"F1\", \"FN\", \"Baseline\", \"Finetune\"]:\n",
    "    agent = CnnSimpleAgent.load(\n",
    "        args.load, envs, load_critic=False, map_location=device\n",
    "    )\n",
    "elif algorithm == \"CompoNet\":\n",
    "    prevs_paths = [path_from_other_mode(args.load, i) for i in range(args.train_mode)]\n",
    "    agent = CnnCompoNetAgent.load(\n",
    "        args.load, envs, prevs_paths=prevs_paths, map_location=device\n",
    "    )\n",
    "elif algorithm == \"ProgNet\":\n",
    "    prevs_paths = [path_from_other_mode(args.load, i) for i in range(args.train_mode)]\n",
    "    agent = ProgressiveNetAgent.load(\n",
    "        args.load, envs, prevs_paths=prevs_paths, map_location=device\n",
    "    )\n",
    "elif algorithm == \"PackNet\":\n",
    "    task_id = None if args.mode == None else args.mode + 1\n",
    "    agent = PackNetAgent.load(args.load, task_id=task_id, map_location=device)\n",
    "    agent.network.set_view(task_id)\n",
    "\n",
    "    if mode != train_mode:\n",
    "        # load the actor and critic heads from the model trained in the testing task (game mode)\n",
    "        path = path_from_other_mode(args.load, mode)\n",
    "        ac = PackNetAgent.load(path, map_location=device)\n",
    "        agent.critic = ac.critic\n",
    "        agent.actor = ac.actor\n",
    "elif algorithm == \"FuseNet\":\n",
    "    agent = FuseNetAgent.load(args.load, envs, map_location=device)\n",
    "elif algorithm == \"FuseNetwMerge\":\n",
    "    agent = FuseNetwMergeAgent.load(args.load, envs, map_location=device)\n",
    "elif algorithm == \"MaskNet\":\n",
    "    agent = CnnMaskAgent.load(args.load, envs, num_tasks=get_num_task(env_name), map_location=device)\n",
    "elif algorithm == \"Rewire\":\n",
    "    agent = RewireAgent.load(args.load, envs, map_location=device)\n",
    "    agent.set_task(args.mode)\n",
    "elif algorithm == \"CReLUs\":\n",
    "    agent = CReLUsAgent.load(args.load, envs, map_location=device)\n",
    "elif algorithm == \"CbpNet\":\n",
    "    agent = CnnCbpAgent.load(args.load, envs, map_location=device)\n",
    "else:\n",
    "    print(f\"Loading of agent type `{algorithm}` is not implemented.\")\n",
    "    quit(1)\n",
    "\n",
    "agent.to(device)\n"
   ]
  }
 ],
 "metadata": {
  "language_info": {
   "name": "python"
  }
 },
 "nbformat": 4,
 "nbformat_minor": 5
}
